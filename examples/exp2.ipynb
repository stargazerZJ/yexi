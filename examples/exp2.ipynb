{
 "cells": [
  {
   "cell_type": "code",
   "execution_count": 13,
   "metadata": {},
   "outputs": [],
   "source": [
    "import numpy as np\n",
    "import scipy.stats\n",
    "import torch\n",
    "confidence = 0.95\n",
    "class Value:\n",
    "\t'''A measured or calculated value, with uncertainty.'''\n",
    "\tdef __init__(self, value, uncertainty=0):\n",
    "\t\tself.value = float(value)\n",
    "\t\tself.uncertainty = float(uncertainty)\n",
    "\n",
    "\tdef __str__(self) -> str:\n",
    "\t\treturn f'{self.value} ± {self.uncertainty}'\n",
    "\n",
    "\tdef __repr__(self) -> str:\n",
    "\t\treturn f'Value({self.value}, {self.uncertainty})'\n",
    "\n",
    "\tdef relative_uncertainty(self) -> float:\n",
    "\t\t'''calculate the relative uncertainty'''\n",
    "\t\treturn self.uncertainty / self.value"
   ]
  },
  {
   "cell_type": "code",
   "execution_count": 14,
   "metadata": {},
   "outputs": [],
   "source": [
    "def margin_of_error(value : np.array) -> float:\n",
    "\t'''calculate Margin of Error (the uncertainty associated with random error), using the t-distribution'''\n",
    "\treturn scipy.stats.t.ppf((1 + confidence) / 2, len(value) - 1) * np.std(value, ddof=1) / np.sqrt(len(value))\n",
    "\n",
    "def measure(value : np.array, tolerance=0, factor=1, intercept=0) -> Value:\n",
    "\t'''measure a value with uncertainty, assuming the data is uniformly distributed within the tolerance'''\n",
    "\tsystematic_error = tolerance * confidence\n",
    "\tif hasattr(value, '__len__'):\n",
    "\t\tME = margin_of_error(value)\n",
    "\t\treturn Value((np.mean(value) - intercept) * factor, np.sqrt(ME**2 + systematic_error**2) * factor)\n",
    "\telse:\n",
    "\t\treturn Value((value - intercept) * factor, systematic_error * factor)\n",
    "\n",
    "def calc(f, *args : float | Value) -> Value:\n",
    "\t'''calculate a function with uncertainty, using torch'''\n",
    "\t# Convert all arguments to torch tensors\n",
    "\tvalues = [\n",
    "\t\ttorch.tensor(\n",
    "\t\t\targ.value if isinstance(arg, Value) else arg,\n",
    "\t\t\trequires_grad=True,\n",
    "\t\t\tdtype=float\n",
    "\t\t)\n",
    "\t\tfor arg in args\n",
    "\t]\n",
    "\tuncertainties = [torch.tensor(arg.uncertainty if isinstance(arg, Value) else 0) for arg in args]\n",
    "\n",
    "\t# Calculate the function value\n",
    "\tvalue : torch.Tensor = f(*values)\n",
    "\n",
    "\t# Calculate the uncertainty using the formula for error propagation\n",
    "\tvalue.backward()\n",
    "\tuncertainties = torch.Tensor([(uncertainty * value.grad) for uncertainty, value in zip(uncertainties, values)])\n",
    "\tuncertainty = torch.sqrt(torch.sum(uncertainties ** 2))\n",
    "\tcalc.uncertainties = torch.abs(uncertainties)\n",
    "\n",
    "\treturn Value(value.detach().numpy(), uncertainty.detach().numpy())"
   ]
  },
  {
   "cell_type": "markdown",
   "metadata": {},
   "source": [
    "# Experiment 2 - Measuring the viscosity of a liquid using falling ball method"
   ]
  },
  {
   "cell_type": "code",
   "execution_count": 15,
   "metadata": {},
   "outputs": [],
   "source": [
    "def yita(r, row_2, row_1, g, t, s, R):\n",
    "\treturn 2 / 9 * r ** 2 * (row_2 - row_1) * g * t / s / (1 + 2.4 * r / R)\n",
    "\n",
    "def row(m, r):\n",
    "\treturn m / (4 / 3 * torch.pi * r ** 3)"
   ]
  },
  {
   "cell_type": "code",
   "execution_count": 16,
   "metadata": {},
   "outputs": [],
   "source": [
    "def f(s_1, s_2, t, m, g, d, D, row_1):\n",
    "\tr = d / 2\n",
    "\tR = D / 2\n",
    "\trow_2 = row(m, r)\n",
    "\ts = s_2 - s_1\n",
    "\treturn yita(r, row_2, row_1, g, t, s, R)\n"
   ]
  },
  {
   "cell_type": "code",
   "execution_count": 17,
   "metadata": {},
   "outputs": [],
   "source": [
    "def steel_ruler(l): return measure(l, 0.4, 1e-3)\n",
    "s_1 = steel_ruler(26.5)\n",
    "s_2 = steel_ruler(169.0)\n",
    "# s: the distance between the laser beams\n",
    "\n",
    "t = measure(\n",
    "\t[12.07, 12.10, 11.97, 11.81, 11.66, 11.87, 11.72, 11.66, 11.68, 11.63,\n",
    "  \t 11.66, 11.69, 11.44, 11.28, 11.43, 11.47, 11.28, 11.72, 11.25, 11.22],\n",
    "  0.005\n",
    ")\n",
    "# t: the time it takes for the steel ball to fall through the laser beams"
   ]
  },
  {
   "cell_type": "code",
   "execution_count": 18,
   "metadata": {},
   "outputs": [],
   "source": [
    "m = measure(3.277, 0.0005, 1e-3 / 100)\n",
    "# m: the mass of the steel ball, measured with 100 balls\n",
    "\n",
    "g = 9.793\n",
    "# g: the acceleration due to gravity, treated as a constant\n",
    "\n",
    "def micrometer(l): return measure(l, 0.002, 1e-3, 0.00)\n",
    "d = micrometer(\n",
    "\t[1.992, 1.991, 1.991, 1.990, 1.990, 1.990, 1.989, 1.991, 1.990, 1.989]\n",
    ")\n",
    "# d: the diameter of the steel ball"
   ]
  },
  {
   "cell_type": "code",
   "execution_count": 19,
   "metadata": {},
   "outputs": [],
   "source": [
    "def vernier_caliper(l): return measure(l, 0.002, 1e-2, 0.006)\n",
    "D = vernier_caliper(\n",
    "\t[6.116, 6.140, 6.128, 6.148, 6.140, 6.132]\n",
    ")\n",
    "# D: the diameter of the measuring cylinder\n",
    "\n",
    "row_1 = measure(0.590, 0.004, 1e3)\n",
    "# row_1: the density of the caster oil\n",
    "temperature = measure(17.5, 0.5)\n",
    "# temperature: the temperature of the caster oil\n",
    "humidity = measure(64.0, 0.5)\n",
    "# humidity: the humidity of the lab"
   ]
  },
  {
   "cell_type": "code",
   "execution_count": 25,
   "metadata": {},
   "outputs": [
    {
     "data": {
      "text/plain": [
       "(Value(11.630500000000001, 0.12271451325353376),\n",
       " Value(0.0019903000000000004, 2.0175633701583273e-06),\n",
       " Value(0.06128, 0.00011950574740097389))"
      ]
     },
     "execution_count": 25,
     "metadata": {},
     "output_type": "execute_result"
    }
   ],
   "source": [
    "t, d, D"
   ]
  },
  {
   "cell_type": "code",
   "execution_count": 26,
   "metadata": {},
   "outputs": [
    {
     "data": {
      "text/plain": [
       "(0.010551095245564142, 0.0010136981209658477, 0.0019501590633318193)"
      ]
     },
     "execution_count": 26,
     "metadata": {},
     "output_type": "execute_result"
    }
   ],
   "source": [
    "t.relative_uncertainty(), d.relative_uncertainty(), D.relative_uncertainty()"
   ]
  },
  {
   "cell_type": "code",
   "execution_count": 20,
   "metadata": {},
   "outputs": [
    {
     "data": {
      "text/plain": [
       "Value(590.0, 3.8)"
      ]
     },
     "execution_count": 20,
     "metadata": {},
     "output_type": "execute_result"
    }
   ],
   "source": [
    "row_1"
   ]
  },
  {
   "cell_type": "code",
   "execution_count": 21,
   "metadata": {},
   "outputs": [
    {
     "data": {
      "text/plain": [
       "Value(7938.202804991214, 24.168230056762695)"
      ]
     },
     "execution_count": 21,
     "metadata": {},
     "output_type": "execute_result"
    }
   ],
   "source": [
    "calc((lambda m, d : row(m, d / 2)), m, d)"
   ]
  },
  {
   "cell_type": "code",
   "execution_count": 22,
   "metadata": {},
   "outputs": [
    {
     "data": {
      "text/plain": [
       "Value(1.199076087086592, 0.013546465896070004)"
      ]
     },
     "execution_count": 22,
     "metadata": {},
     "output_type": "execute_result"
    }
   ],
   "source": [
    "(result := calc(f, s_1, s_2, t, m, g, d, D, row_1))"
   ]
  },
  {
   "cell_type": "code",
   "execution_count": 23,
   "metadata": {},
   "outputs": [
    {
     "data": {
      "text/plain": [
       "0.011297419773405704"
      ]
     },
     "execution_count": 23,
     "metadata": {},
     "output_type": "execute_result"
    }
   ],
   "source": [
    "result.relative_uncertainty()"
   ]
  },
  {
   "cell_type": "code",
   "execution_count": 24,
   "metadata": {},
   "outputs": [
    {
     "data": {
      "text/plain": [
       "tensor([0.0032, 0.0032, 0.0127, 0.0002, 0.0000, 0.0016, 0.0002, 0.0006])"
      ]
     },
     "execution_count": 24,
     "metadata": {},
     "output_type": "execute_result"
    }
   ],
   "source": [
    "calc.uncertainties"
   ]
  },
  {
   "cell_type": "code",
   "execution_count": 27,
   "metadata": {},
   "outputs": [
    {
     "data": {
      "text/plain": [
       "tensor([0.2360, 0.2360, 0.9339, 0.0139, 0.0000, 0.1178, 0.0125, 0.0458])"
      ]
     },
     "execution_count": 27,
     "metadata": {},
     "output_type": "execute_result"
    }
   ],
   "source": [
    "calc.uncertainties / result.uncertainty"
   ]
  },
  {
   "cell_type": "code",
   "execution_count": null,
   "metadata": {},
   "outputs": [],
   "source": []
  }
 ],
 "metadata": {
  "kernelspec": {
   "display_name": "Python 3",
   "language": "python",
   "name": "python3"
  },
  "language_info": {
   "codemirror_mode": {
    "name": "ipython",
    "version": 3
   },
   "file_extension": ".py",
   "mimetype": "text/x-python",
   "name": "python",
   "nbconvert_exporter": "python",
   "pygments_lexer": "ipython3",
   "version": "3.10.12"
  }
 },
 "nbformat": 4,
 "nbformat_minor": 2
}
