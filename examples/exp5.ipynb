{
 "cells": [
  {
   "cell_type": "code",
   "execution_count": 1,
   "metadata": {},
   "outputs": [],
   "source": [
    "import numpy as np\n",
    "import scipy.stats\n",
    "import torch\n",
    "\n",
    "confidence = 0.95\n",
    "\n",
    "def measure(value, tolerance=0, factor=1, intercept=0):\n",
    "\t\"\"\"Measure a value with uncertainty, returning a torch.Tensor with an extra uncertainty attribute.\"\"\"\n",
    "\tsystematic_error = tolerance * confidence\t# assuming the data is uniformly distributed within the tolerance\n",
    "\n",
    "\tif isinstance(value, (list, np.ndarray)):\n",
    "\t\tME = margin_of_error(np.array(value))\n",
    "\t\tmean_value = (np.mean(value) - intercept) * factor\n",
    "\t\tuncertainty = np.sqrt(ME**2 + systematic_error**2) * factor\n",
    "\telse:\n",
    "\t\tmean_value = (value - intercept) * factor\n",
    "\t\tuncertainty = systematic_error * factor\n",
    "\n",
    "\t# Create a Tensor object and attach the uncertainty as an attribute\n",
    "\tresult_tensor = torch.tensor(mean_value, dtype=torch.float, requires_grad=True)\n",
    "\tsetattr(result_tensor, 'uncertainty', uncertainty)\n",
    "\n",
    "\tprint(f'Measured Value {mean_value} ± {uncertainty}')\n",
    "\treturn result_tensor\n",
    "\n",
    "def margin_of_error(value):\n",
    "\t\"\"\"Calculate Margin of Error (the uncertainty associated with random error), using the t-distribution.\"\"\"\n",
    "\treturn scipy.stats.t.ppf((1 + confidence) / 2, len(value) - 1) * np.std(value, ddof=1) / np.sqrt(len(value))\n",
    "\n",
    "def uncertainty(result, inputs):\n",
    "\t\"\"\"Calculate the uncertainty of a result based on the uncertainties of its inputs.\"\"\"\n",
    "\tif not all(hasattr(input, 'uncertainty') for input in inputs if isinstance(input, torch.Tensor)):\n",
    "\t\traise ValueError(\"All inputs must have an 'uncertainty' attribute.\")\n",
    "\n",
    "\tderivatives = []\n",
    "\tfor input in inputs:\n",
    "\t\tif isinstance(input, torch.Tensor) and hasattr(input, 'uncertainty'):\n",
    "\t\t\tinput.requires_grad_(True)\n",
    "\t\t\tderivative = torch.autograd.grad(outputs=result, inputs=input, retain_graph=True)[0]\n",
    "\t\t\tderivatives.append(input.uncertainty * derivative)\n",
    "\n",
    "\tderivatives = torch.tensor(derivatives)\n",
    "\ttotal_uncertainty = torch.sqrt(torch.sum(derivatives ** 2))\n",
    "\tsetattr(result, 'uncertainty', total_uncertainty.item())\n",
    "\tsetattr(result, 'contributions', derivatives)\n",
    "\n",
    "\tprint(f'Result: {result.item()} ± {total_uncertainty.item()}')\n",
    "\treturn result\n",
    "\n",
    "def relative_uncertainty(value : torch.Tensor):\n",
    "\t\"\"\"Calculate the relative uncertainty of a value.\"\"\"\n",
    "\tif not hasattr(value, 'uncertainty'):\n",
    "\t\traise ValueError(\"The input must have an 'uncertainty' attribute. Call the `uncertainty` function first.\")\n",
    "\treturn value.uncertainty / value.item()"
   ]
  },
  {
   "cell_type": "code",
   "execution_count": 2,
   "metadata": {},
   "outputs": [],
   "source": [
    "import matplotlib.pyplot as plt"
   ]
  },
  {
   "cell_type": "code",
   "execution_count": 3,
   "metadata": {},
   "outputs": [
    {
     "name": "stdout",
     "output_type": "stream",
     "text": [
      "Measured Value 0.38000000000000006 ± 0.5642876153562673\n"
     ]
    },
    {
     "data": {
      "text/plain": [
       "tensor(0.3800, requires_grad=True)"
      ]
     },
     "execution_count": 3,
     "metadata": {},
     "output_type": "execute_result"
    }
   ],
   "source": [
    "measure([\n",
    "\t.54, .12, .48\n",
    "]\n",
    ")"
   ]
  },
  {
   "cell_type": "code",
   "execution_count": 4,
   "metadata": {},
   "outputs": [
    {
     "data": {
      "text/plain": [
       "array([[3.00000000e+00, 2.59406567e-03],\n",
       "       [5.00000000e+00, 3.31465623e-03],\n",
       "       [6.00000000e+00, 3.59668080e-03],\n",
       "       [7.00000000e+00, 3.87182987e-03],\n",
       "       [8.00000000e+00, 4.10570443e-03],\n",
       "       [9.00000000e+00, 4.38387097e-03],\n",
       "       [1.00000000e+01, 4.59513614e-03],\n",
       "       [1.10000000e+01, 4.81336303e-03]])"
      ]
     },
     "execution_count": 4,
     "metadata": {},
     "output_type": "execute_result"
    }
   ],
   "source": [
    "D_original = [120.356, 137.403, 153.789, 166.874, 179.64, 190.491, 202.712, 213.199, 223.324, 233.955]\n",
    "D_original = [120.356, 137.403, 153.789, 166.874, 179.64, 190.491, 203.397, 213.199, 223.324, 234.182]\n",
    "# D_original = [120.356, 135.703, 153.789, 166.874, 179.64, 190.491, 203.397, 213.199, 223.324, 233.955]\n",
    "D_real = np.array(D_original)\n",
    "\n",
    "factor = 278 + np.mean([\n",
    "\t.54, .12, .48\n",
    "]\n",
    ")\n",
    "factor = 6 / factor\n",
    "\n",
    "D_real = D_real * factor * 1e-3\n",
    "\n",
    "D_numbered = list(zip(range(3, 13), D_real))\n",
    "# remove_index = [1, 6, 7]\n",
    "remove_index = [1, 8]\n",
    "# remove_index = [9]\n",
    "\n",
    "# remove the data\n",
    "for index in remove_index:\n",
    "\tD_numbered.pop(index)\n",
    "\n",
    "D_numbered = np.array(D_numbered)\n",
    "\n",
    "\n",
    "D_numbered"
   ]
  },
  {
   "cell_type": "code",
   "execution_count": 5,
   "metadata": {},
   "outputs": [
    {
     "name": "stdout",
     "output_type": "stream",
     "text": [
      "Measured Value 0.002594065665636899 ± 1.0237804439974136e-08\n",
      "Measured Value 0.0033146562253035415 ± 1.0237804439974136e-08\n",
      "Measured Value 0.003596680796034198 ± 1.0237804439974136e-08\n",
      "Measured Value 0.0038718298728356916 ± 1.0237804439974136e-08\n",
      "Measured Value 0.004105704432789712 ± 1.0237804439974136e-08\n",
      "Measured Value 0.004383870967741936 ± 1.0237804439974136e-08\n",
      "Measured Value 0.004595136144837992 ± 1.0237804439974136e-08\n",
      "Measured Value 0.00481336302895323 ± 1.0237804439974136e-08\n"
     ]
    }
   ],
   "source": [
    "# convert the y-value into measurement\n",
    "D_k = [measure(value, tolerance=0.0005 * factor * 1e-3, factor=1) for _, value in D_numbered]\n",
    "k = D_numbered[:, 0]"
   ]
  },
  {
   "cell_type": "code",
   "execution_count": 6,
   "metadata": {},
   "outputs": [
    {
     "name": "stdout",
     "output_type": "stream",
     "text": [
      "Result: 0.8696064352989197 ± 4.688263743446441e-06\n",
      "Result: 4.5475378129822275e-08 ± 5.742945615588857e-12\n"
     ]
    },
    {
     "data": {
      "text/plain": [
       "tensor(4.5475e-08, grad_fn=<DivBackward0>)"
      ]
     },
     "execution_count": 6,
     "metadata": {},
     "output_type": "execute_result"
    }
   ],
   "source": [
    "x = k\n",
    "y = [D ** 2 for D in D_k]\n",
    "\n",
    "# calculate the linear regression\n",
    "x = torch.tensor(x, dtype=torch.float)\n",
    "\n",
    "# using formula a = (nΣxy - ΣxΣy) / (nΣx^2 - (Σx)^2)\n",
    "# and b = (Σy - aΣx) / n\n",
    "n = len(x)\n",
    "sum_x = torch.sum(x)\n",
    "sum_y = torch.sum(torch.stack(y))\n",
    "sum_xy = torch.sum(torch.stack([x * y for x, y in zip(x, y)]))\n",
    "sum_x2 = torch.sum(x ** 2)\n",
    "\n",
    "a = (n * sum_xy - sum_x * sum_y) / (n * sum_x2 - sum_x ** 2)\n",
    "b = (sum_y - a * sum_x) / n\n",
    "\n",
    "lambda_ = 589.3e-9\n",
    "\n",
    "R = a / (4 * lambda_)\n",
    "d_0 = b / (16 * R)\n",
    "\n",
    "# calculate the uncertainty of the slope\n",
    "uncertainty(R, D_k)\n",
    "uncertainty(d_0, D_k)\n"
   ]
  },
  {
   "cell_type": "code",
   "execution_count": 7,
   "metadata": {},
   "outputs": [
    {
     "data": {
      "text/plain": [
       "(1.4064791230339324e-05, 1.722883684676657e-11)"
      ]
     },
     "execution_count": 7,
     "metadata": {},
     "output_type": "execute_result"
    }
   ],
   "source": [
    "4.688263743446441e-06 * 3, 5.742945615588857e-12 * 3"
   ]
  },
  {
   "cell_type": "code",
   "execution_count": 8,
   "metadata": {},
   "outputs": [
    {
     "name": "stderr",
     "output_type": "stream",
     "text": [
      "findfont: Generic family 'sans-serif' not found because none of the following families were found: SimHei\n",
      "findfont: Generic family 'sans-serif' not found because none of the following families were found: SimHei\n",
      "findfont: Generic family 'sans-serif' not found because none of the following families were found: SimHei\n",
      "findfont: Generic family 'sans-serif' not found because none of the following families were found: SimHei\n",
      "findfont: Generic family 'sans-serif' not found because none of the following families were found: SimHei\n"
     ]
    },
    {
     "name": "stderr",
     "output_type": "stream",
     "text": [
      "findfont: Generic family 'sans-serif' not found because none of the following families were found: SimHei\n",
      "findfont: Generic family 'sans-serif' not found because none of the following families were found: SimHei\n",
      "findfont: Font family ['sans-serif'] not found. Falling back to DejaVu Sans.\n",
      "findfont: Generic family 'sans-serif' not found because none of the following families were found: SimHei\n",
      "findfont: Generic family 'sans-serif' not found because none of the following families were found: SimHei\n",
      "findfont: Font family ['sans-serif'] not found. Falling back to DejaVu Sans.\n",
      "findfont: Generic family 'sans-serif' not found because none of the following families were found: SimHei\n",
      "findfont: Generic family 'sans-serif' not found because none of the following families were found: SimHei\n",
      "findfont: Generic family 'sans-serif' not found because none of the following families were found: SimHei\n",
      "findfont: Generic family 'sans-serif' not found because none of the following families were found: SimHei\n",
      "findfont: Generic family 'sans-serif' not found because none of the following families were found: SimHei\n",
      "findfont: Generic family 'sans-serif' not found because none of the following families were found: SimHei\n",
      "findfont: Generic family 'sans-serif' not found because none of the following families were found: SimHei\n",
      "findfont: Generic family 'sans-serif' not found because none of the following families were found: SimHei\n",
      "findfont: Generic family 'sans-serif' not found because none of the following families were found: SimHei\n",
      "findfont: Generic family 'sans-serif' not found because none of the following families were found: SimHei\n",
      "findfont: Generic family 'sans-serif' not found because none of the following families were found: SimHei\n",
      "findfont: Generic family 'sans-serif' not found because none of the following families were found: SimHei\n",
      "findfont: Generic family 'sans-serif' not found because none of the following families were found: SimHei\n",
      "findfont: Generic family 'sans-serif' not found because none of the following families were found: SimHei\n",
      "findfont: Generic family 'sans-serif' not found because none of the following families were found: SimHei\n",
      "findfont: Generic family 'sans-serif' not found because none of the following families were found: SimHei\n",
      "findfont: Generic family 'sans-serif' not found because none of the following families were found: SimHei\n",
      "findfont: Generic family 'sans-serif' not found because none of the following families were found: SimHei\n",
      "findfont: Generic family 'sans-serif' not found because none of the following families were found: SimHei\n",
      "findfont: Generic family 'sans-serif' not found because none of the following families were found: SimHei\n",
      "findfont: Generic family 'sans-serif' not found because none of the following families were found: SimHei\n",
      "findfont: Generic family 'sans-serif' not found because none of the following families were found: SimHei\n",
      "findfont: Generic family 'sans-serif' not found because none of the following families were found: SimHei\n",
      "findfont: Generic family 'sans-serif' not found because none of the following families were found: SimHei\n",
      "findfont: Generic family 'sans-serif' not found because none of the following families were found: SimHei\n",
      "findfont: Generic family 'sans-serif' not found because none of the following families were found: SimHei\n",
      "findfont: Generic family 'sans-serif' not found because none of the following families were found: SimHei\n",
      "findfont: Generic family 'sans-serif' not found because none of the following families were found: SimHei\n",
      "findfont: Generic family 'sans-serif' not found because none of the following families were found: SimHei\n",
      "findfont: Generic family 'sans-serif' not found because none of the following families were found: SimHei\n",
      "findfont: Generic family 'sans-serif' not found because none of the following families were found: SimHei\n",
      "findfont: Generic family 'sans-serif' not found because none of the following families were found: SimHei\n",
      "findfont: Generic family 'sans-serif' not found because none of the following families were found: SimHei\n",
      "findfont: Generic family 'sans-serif' not found because none of the following families were found: SimHei\n",
      "findfont: Generic family 'sans-serif' not found because none of the following families were found: SimHei\n",
      "findfont: Generic family 'sans-serif' not found because none of the following families were found: SimHei\n",
      "findfont: Generic family 'sans-serif' not found because none of the following families were found: SimHei\n",
      "findfont: Generic family 'sans-serif' not found because none of the following families were found: SimHei\n",
      "findfont: Generic family 'sans-serif' not found because none of the following families were found: SimHei\n",
      "findfont: Generic family 'sans-serif' not found because none of the following families were found: SimHei\n",
      "findfont: Generic family 'sans-serif' not found because none of the following families were found: SimHei\n",
      "findfont: Generic family 'sans-serif' not found because none of the following families were found: SimHei\n",
      "findfont: Generic family 'sans-serif' not found because none of the following families were found: SimHei\n",
      "findfont: Generic family 'sans-serif' not found because none of the following families were found: SimHei\n",
      "findfont: Generic family 'sans-serif' not found because none of the following families were found: SimHei\n",
      "findfont: Generic family 'sans-serif' not found because none of the following families were found: SimHei\n",
      "findfont: Generic family 'sans-serif' not found because none of the following families were found: SimHei\n",
      "findfont: Generic family 'sans-serif' not found because none of the following families were found: SimHei\n",
      "findfont: Generic family 'sans-serif' not found because none of the following families were found: SimHei\n",
      "findfont: Generic family 'sans-serif' not found because none of the following families were found: SimHei\n",
      "findfont: Generic family 'sans-serif' not found because none of the following families were found: SimHei\n",
      "findfont: Generic family 'sans-serif' not found because none of the following families were found: SimHei\n",
      "findfont: Generic family 'sans-serif' not found because none of the following families were found: SimHei\n",
      "findfont: Generic family 'sans-serif' not found because none of the following families were found: SimHei\n",
      "findfont: Generic family 'sans-serif' not found because none of the following families were found: SimHei\n",
      "findfont: Generic family 'sans-serif' not found because none of the following families were found: SimHei\n",
      "findfont: Generic family 'sans-serif' not found because none of the following families were found: SimHei\n",
      "findfont: Generic family 'sans-serif' not found because none of the following families were found: SimHei\n",
      "findfont: Generic family 'sans-serif' not found because none of the following families were found: SimHei\n",
      "findfont: Generic family 'sans-serif' not found because none of the following families were found: SimHei\n",
      "findfont: Generic family 'sans-serif' not found because none of the following families were found: SimHei\n",
      "findfont: Generic family 'sans-serif' not found because none of the following families were found: SimHei\n",
      "findfont: Generic family 'sans-serif' not found because none of the following families were found: SimHei\n",
      "findfont: Generic family 'sans-serif' not found because none of the following families were found: SimHei\n",
      "findfont: Generic family 'sans-serif' not found because none of the following families were found: SimHei\n",
      "findfont: Generic family 'sans-serif' not found because none of the following families were found: SimHei\n",
      "findfont: Generic family 'sans-serif' not found because none of the following families were found: SimHei\n",
      "findfont: Generic family 'sans-serif' not found because none of the following families were found: SimHei\n",
      "findfont: Generic family 'sans-serif' not found because none of the following families were found: SimHei\n",
      "findfont: Generic family 'sans-serif' not found because none of the following families were found: SimHei\n",
      "findfont: Generic family 'sans-serif' not found because none of the following families were found: SimHei\n",
      "findfont: Generic family 'sans-serif' not found because none of the following families were found: SimHei\n",
      "findfont: Generic family 'sans-serif' not found because none of the following families were found: SimHei\n",
      "findfont: Generic family 'sans-serif' not found because none of the following families were found: SimHei\n",
      "findfont: Generic family 'sans-serif' not found because none of the following families were found: SimHei\n",
      "findfont: Generic family 'sans-serif' not found because none of the following families were found: SimHei\n",
      "findfont: Generic family 'sans-serif' not found because none of the following families were found: SimHei\n",
      "findfont: Generic family 'sans-serif' not found because none of the following families were found: SimHei\n",
      "findfont: Generic family 'sans-serif' not found because none of the following families were found: SimHei\n",
      "findfont: Generic family 'sans-serif' not found because none of the following families were found: SimHei\n",
      "findfont: Generic family 'sans-serif' not found because none of the following families were found: SimHei\n",
      "findfont: Generic family 'sans-serif' not found because none of the following families were found: SimHei\n",
      "findfont: Generic family 'sans-serif' not found because none of the following families were found: SimHei\n",
      "findfont: Generic family 'sans-serif' not found because none of the following families were found: SimHei\n"
     ]
    },
    {
     "data": {
      "image/png": "[encoded data removed]",
      "text/plain": [
       "<Figure size 1000x600 with 1 Axes>"
      ]
     },
     "metadata": {},
     "output_type": "display_data"
    },
    {
     "data": {
      "text/plain": [
       "(0.8696066860342098, 4.547493472907134e-08, 0.9998481992042157)"
      ]
     },
     "execution_count": 8,
     "metadata": {},
     "output_type": "execute_result"
    }
   ],
   "source": [
    "# formula: D_k^2 = 4 * R * lambda * k + 16 * R * d_0\n",
    "D_k = D_numbered\n",
    "\n",
    "lambda_ = 589.3e-9\n",
    "\n",
    "outliers = [1, 9]\n",
    "outlier_k = [4, 12]\n",
    "outlier_D_k = [D_real[1], D_real[9]]\n",
    "outlier_D_k = np.array(outlier_D_k)\n",
    "outlier_D_k_squared = outlier_D_k ** 2\n",
    "\n",
    "# Extracting k and D_k^2 from the given data\n",
    "k = D_k[:, 0]\n",
    "D_k_squared = D_k[:, 1] ** 2\n",
    "\n",
    "\n",
    "from scipy.stats import linregress\n",
    "\n",
    "# The formula D_k^2 = 4 * R * lambda * k + 16 * R * d_0 can be rearranged into:\n",
    "# D_k^2 = (4 * lambda) * R * k + (16 * d_0) * R\n",
    "# This resembles a linear equation y = mx + c, where y = D_k^2, x = k, m = (4 * lambda) * R, and c = (16 * d_0) * R\n",
    "\n",
    "# Performing linear regression to find m and c\n",
    "slope, intercept, r_value, p_value, std_err = linregress(k, D_k_squared)\n",
    "\n",
    "# Calculating R and d_0 from slope(m) and intercept(c)\n",
    "R = slope / (4 * lambda_)\n",
    "d_0 = intercept / (16 * R)\n",
    "\n",
    "# Plotting\n",
    "plt.figure(figsize=(10, 6))\n",
    "plt.scatter(k, D_k_squared, color='red', label='Measured Data', marker='+')\n",
    "x = np.linspace(2, 12, 2)\n",
    "# x = k\n",
    "plt.plot(x, slope * x + intercept, label='Linear Fit')\n",
    "plt.scatter(outlier_k, outlier_D_k_squared, color='green', label='Outliers', marker='x')\n",
    "\n",
    "plt.xlabel('Order (k)')\n",
    "plt.ylabel('Squared Diameter ($D_k^2$)')\n",
    "plt.rcParams['font.sans-serif'] = ['SimHei']\n",
    "plt.title('Linear Fit of $D_k^2$ vs. Order (k)')\n",
    "plt.legend()\n",
    "plt.grid(True)\n",
    "plt.show()\n",
    "\n",
    "R, d_0, r_value"
   ]
  },
  {
   "cell_type": "code",
   "execution_count": 9,
   "metadata": {},
   "outputs": [
    {
     "data": {
      "text/plain": [
       "(2.0498368803198394e-06, tensor(2.0498e-06, grad_fn=<DivBackward0>))"
      ]
     },
     "execution_count": 9,
     "metadata": {},
     "output_type": "execute_result"
    }
   ],
   "source": [
    "slope, a"
   ]
  },
  {
   "cell_type": "code",
   "execution_count": null,
   "metadata": {},
   "outputs": [],
   "source": []
  }
 ],
 "metadata": {
  "kernelspec": {
   "display_name": "Python 3",
   "language": "python",
   "name": "python3"
  },
  "language_info": {
   "codemirror_mode": {
    "name": "ipython",
    "version": 3
   },
   "file_extension": ".py",
   "mimetype": "text/x-python",
   "name": "python",
   "nbconvert_exporter": "python",
   "pygments_lexer": "ipython3",
   "version": "2.7.undefined"
  }
 },
 "nbformat": 4,
 "nbformat_minor": 2
}
