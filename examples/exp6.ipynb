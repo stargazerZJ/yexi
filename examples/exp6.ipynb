{
 "cells": [
  {
   "cell_type": "code",
   "execution_count": 68,
   "metadata": {},
   "outputs": [],
   "source": [
    "import numpy as np\n",
    "import scipy.stats\n",
    "import torch\n",
    "import matplotlib.pyplot as plt\n",
    "confidence = 0.95\n",
    "class Value:\n",
    "\t'''A measured or calculated value, with uncertainty.'''\n",
    "\tdef __init__(self, value, uncertainty=0):\n",
    "\t\tself.value = float(value)\n",
    "\t\tself.uncertainty = float(uncertainty)\n",
    "\n",
    "\tdef __str__(self) -> str:\n",
    "\t\treturn f'{self.value} ± {self.uncertainty}'\n",
    "\n",
    "\tdef __repr__(self) -> str:\n",
    "\t\treturn f'Value({self.value}, {self.uncertainty})'\n",
    "\n",
    "\tdef relative_uncertainty(self) -> float:\n",
    "\t\t'''calculate the relative uncertainty'''\n",
    "\t\treturn self.uncertainty / self.value"
   ]
  },
  {
   "cell_type": "code",
   "execution_count": 69,
   "metadata": {},
   "outputs": [],
   "source": [
    "def margin_of_error(value : np.array) -> float:\n",
    "\t'''calculate Margin of Error (the uncertainty associated with random error), using the t-distribution'''\n",
    "\treturn scipy.stats.t.ppf((1 + confidence) / 2, len(value) - 1) * np.std(value, ddof=1) / np.sqrt(len(value))\n",
    "\n",
    "def measure(value : np.array, tolerance=0, factor=1, intercept=0) -> Value:\n",
    "\t'''measure a value with uncertainty, assuming the data is uniformly distributed within the tolerance'''\n",
    "\tsystematic_error = tolerance * confidence\n",
    "\tif hasattr(value, '__len__'):\n",
    "\t\tME = margin_of_error(value)\n",
    "\t\treturn Value((np.mean(value) - intercept) * factor, np.sqrt(ME**2 + systematic_error**2) * factor)\n",
    "\telse:\n",
    "\t\treturn Value((value - intercept) * factor, systematic_error * factor)\n",
    "\n",
    "def calc(f, *args : float | Value) -> Value:\n",
    "\t'''calculate a function with uncertainty, using torch'''\n",
    "\t# Convert all arguments to torch tensors\n",
    "\tvalues = [\n",
    "\t\ttorch.tensor(\n",
    "\t\t\targ.value if isinstance(arg, Value) else arg,\n",
    "\t\t\trequires_grad=True,\n",
    "\t\t\tdtype=float\n",
    "\t\t)\n",
    "\t\tfor arg in args\n",
    "\t]\n",
    "\tuncertainties = [torch.tensor(arg.uncertainty if isinstance(arg, Value) else 0) for arg in args]\n",
    "\n",
    "\t# Calculate the function value\n",
    "\tvalue : torch.Tensor = f(*values)\n",
    "\n",
    "\t# Calculate the uncertainty using the formula for error propagation\n",
    "\tvalue.backward()\n",
    "\tuncertainties = torch.Tensor([(uncertainty * value.grad) for uncertainty, value in zip(uncertainties, values)])\n",
    "\tuncertainty = torch.sqrt(torch.sum(uncertainties ** 2))\n",
    "\tcalc.uncertainties = torch.abs(uncertainties)\n",
    "\n",
    "\treturn Value(value.detach().numpy(), uncertainty.detach().numpy())"
   ]
  },
  {
   "cell_type": "markdown",
   "metadata": {},
   "source": [
    "# Experiment 6 - Measuring the focal length"
   ]
  },
  {
   "cell_type": "code",
   "execution_count": 70,
   "metadata": {},
   "outputs": [
    {
     "data": {
      "text/plain": [
       "Value(9.521, 0.0475)"
      ]
     },
     "execution_count": 70,
     "metadata": {},
     "output_type": "execute_result"
    }
   ],
   "source": [
    "x_0_original = np.array([4.40, 10.05])\n",
    "x_0_delta = 2.296\n",
    "x_0 = measure(x_0_original.mean(), tolerance=0.05, intercept=-x_0_delta)\n",
    "x_0\t# light source position"
   ]
  },
  {
   "cell_type": "markdown",
   "metadata": {},
   "source": [
    "## 1. Convex lens - Self-collimation method"
   ]
  },
  {
   "cell_type": "code",
   "execution_count": 71,
   "metadata": {},
   "outputs": [],
   "source": [
    "x = [\n",
    "\t[\n",
    "\t\t[\n",
    "\t\t\t[23.55, 23.90, 23.90], # 1, ->, l\n",
    "\t\t\t[28.40, 28.85, 28.80], # 1, ->, r\n",
    "\t\t],\n",
    "\t\t[\n",
    "\t\t\t[23.55, 23.70, 23.90], # 1, <-, l\n",
    "\t\t\t[28.40, 28.60, 28.80], # 1, <-, r\n",
    "\t\t],\n",
    "\t],\n",
    "\t[\n",
    "\t\t[\n",
    "\t\t\t[23.30, 23.50, 23.25], # 2, ->, l\n",
    "\t\t\t[28.15, 28.40, 28.30], # 2, ->, r\n",
    "\t\t],\n",
    "\t\t[\n",
    "\t\t\t[23.45, 23.35, 23.25], # 2, <-, l\n",
    "\t\t\t[28.20, 28.70, 28.65], # 2, <-, r\n",
    "\t\t]\n",
    "\t]\n",
    "]\n",
    "x = np.array(x)"
   ]
  },
  {
   "cell_type": "code",
   "execution_count": 72,
   "metadata": {},
   "outputs": [
    {
     "data": {
      "image/png": "[encoded data removed]",
      "text/plain": [
       "<Figure size 640x480 with 1 Axes>"
      ]
     },
     "metadata": {},
     "output_type": "display_data"
    }
   ],
   "source": [
    "# plot every data point of x on a axis, marking the different groups with different colors\n",
    "\n",
    "# Setting up color map for different groups\n",
    "colors = ['r', 'g', 'b', 'c']  # Four different groups\n",
    "\n",
    "# Plotting\n",
    "for i in range(x.shape[0]):  # Loop over the first dimension (2 groups)\n",
    "    for j in range(x.shape[1]):  # Loop over the second dimension (left, right)\n",
    "        for k in range(x.shape[2]):  # Loop over the third dimension (l, r)\n",
    "            data_points = x[i, j, k, :]\n",
    "            plt.scatter([i*2 + j]*len(data_points), data_points, color=colors[i*2 + j])\n",
    "\n",
    "plt.xlabel('Group and Direction')\n",
    "plt.ylabel('Data Points')\n",
    "plt.title('Data Points Visualization')\n",
    "plt.xticks(ticks=np.arange(4), labels=['1, ->', '1, <-', '2, ->', '2, <-'])\n",
    "plt.show()"
   ]
  },
  {
   "cell_type": "code",
   "execution_count": 73,
   "metadata": {},
   "outputs": [
    {
     "name": "stdout",
     "output_type": "stream",
     "text": [
      "x_1_l = 23.75 ± 0.18787151166067637\n",
      "x_1_r = 28.641666666666666 ± 0.2212924946063544\n",
      "x_2_l = 23.349999999999998 ± 0.11987792454970558\n",
      "x_2_r = 28.400000000000002 ± 0.24622338159784937\n"
     ]
    }
   ],
   "source": [
    "# Grouping the data points\n",
    "x_1_l = measure(x[0, :, 0, :].flatten(), tolerance=0.05)\n",
    "x_1_r = measure(x[0, :, 1, :].flatten(), tolerance=0.05)\n",
    "x_2_l = measure(x[1, :, 0, :].flatten(), tolerance=0.05)\n",
    "x_2_r = measure(x[1, :, 1, :].flatten(), tolerance=0.05)\n",
    "print(\n",
    "\tf'x_1_l = {x_1_l}',\n",
    "\tf'x_1_r = {x_1_r}',\n",
    "\tf'x_2_l = {x_2_l}',\n",
    "\tf'x_2_r = {x_2_r}',\n",
    "\tsep='\\n'\n",
    ")"
   ]
  },
  {
   "cell_type": "code",
   "execution_count": 74,
   "metadata": {},
   "outputs": [
    {
     "name": "stdout",
     "output_type": "stream",
     "text": [
      "f = 16.514416666666666 ± 0.11049965023994446, 0.006691102233297844\n"
     ]
    }
   ],
   "source": [
    "def f1(x_1_l, x_1_r, x_2_l, x_2_r, x_0):\n",
    "\t# return the mean of the data points\n",
    "\treturn (x_1_l + x_1_r + x_2_l + x_2_r) / 4 - x_0\n",
    "f = calc(f1, x_1_l, x_1_r, x_2_l, x_2_r, x_0)\n",
    "print(f'f = {f}, {f.relative_uncertainty()}')"
   ]
  },
  {
   "cell_type": "markdown",
   "metadata": {},
   "source": [
    "## 2. Convex Lens - Conjugate Method"
   ]
  },
  {
   "cell_type": "code",
   "execution_count": 75,
   "metadata": {},
   "outputs": [
    {
     "data": {
      "text/plain": [
       "Value(86.725, 0.0475)"
      ]
     },
     "execution_count": 75,
     "metadata": {},
     "output_type": "execute_result"
    }
   ],
   "source": [
    "x_0_prime_original = np.array([84.30, 89.15])\n",
    "x_0_prime = measure(x_0_prime_original.mean(), tolerance=0.05)\n",
    "x_0_prime\t# image position"
   ]
  },
  {
   "cell_type": "code",
   "execution_count": 76,
   "metadata": {},
   "outputs": [],
   "source": [
    "x = [\n",
    "\t[\n",
    "\t\t[31.45, 31.40, 31.50, 31.30, 31.80, 31.60],\t# 1, ->\n",
    "\t\t[30.95, 31.00, 31.20, 31.30, 31.10, 31.15], # 1, <-\n",
    "\t],\n",
    "\t[\n",
    "\t\t[59.25, 59.50, 59.20, 59.00, 59.15, 59.30],\t# 2, ->\n",
    "\t\t[58.90, 59.00, 59.40, 59.00, 59.10, 59.25], # 2, <-\n",
    "\t]\n",
    "]\n",
    "x = np.array(x)"
   ]
  },
  {
   "cell_type": "code",
   "execution_count": 77,
   "metadata": {},
   "outputs": [
    {
     "name": "stdout",
     "output_type": "stream",
     "text": [
      "x_1_-> = 31.50833333333333 ± 0.18908883153596306\n",
      "x_1_<- = 31.11666666666667 ± 0.1435670669711704\n",
      "x_2_-> = 59.23333333333333 ± 0.18090320481696653\n",
      "x_2_<- = 59.10833333333334 ± 0.200399218721343\n"
     ]
    },
    {
     "data": {
      "image/png": "[encoded data removed]",
      "text/plain": [
       "<Figure size 640x480 with 1 Axes>"
      ]
     },
     "metadata": {},
     "output_type": "display_data"
    }
   ],
   "source": [
    "# plot every data point of x on a axis, marking the different groups with different colors\n",
    "# Setting up color map for different groups\n",
    "colors = ['r', 'g']  # Two different groups\n",
    "\n",
    "# Plotting\n",
    "for i in range(x.shape[0]):  # Loop over the first dimension (2 groups)\n",
    "    for j in range(x.shape[1]):  # Loop over the second dimension (->, <-)\n",
    "        data_points = x[i, j, :]\n",
    "        plt.scatter([i*2 + j]*len(data_points), data_points, color=colors[i])\n",
    "        # print mean and standard deviation\n",
    "        print(f'x_{i+1}_{\"->\" if j == 0 else \"<-\"} = {measure(data_points, tolerance=0.05)}')\n",
    "\n",
    "plt.xlabel('Group and Direction')\n",
    "plt.ylabel('Data Points')\n",
    "plt.title('Data Points Visualization')\n",
    "plt.xticks(ticks=np.arange(4), labels=['1, ->', '1, <-', '2, ->', '2, <-'])\n",
    "plt.show()"
   ]
  },
  {
   "cell_type": "code",
   "execution_count": 78,
   "metadata": {},
   "outputs": [
    {
     "name": "stdout",
     "output_type": "stream",
     "text": [
      "d = 27.858333333333334 ± 0.17975811660289764\n",
      "D = 77.204 ± 0.06717514246702194\n",
      "f = 16.787895963579892 ± 0.03757781162858009, 0.002238387211244482\n"
     ]
    }
   ],
   "source": [
    "x_1_L = measure(x[0, 0, :], tolerance=0.05)\n",
    "x_1_R = measure(x[0, 1, :], tolerance=0.05)\n",
    "x_2_L = measure(x[1, 0, :], tolerance=0.05)\n",
    "x_2_R = measure(x[1, 1, :], tolerance=0.05)\n",
    "\n",
    "def calc_d(x_1_L, x_1_R, x_2_L, x_2_R):\n",
    "\td = ((x_2_L + x_2_R) - (x_1_L + x_1_R)) / 2\n",
    "\treturn d\n",
    "def calc_D(x_0, x_0_prime):\n",
    "\tD = x_0_prime - x_0\n",
    "\treturn D\n",
    "def calc_f(x_1_L, x_1_R, x_2_L, x_2_R, x_0, x_0_prime):\n",
    "\td = calc_d(x_1_L, x_1_R, x_2_L, x_2_R)\n",
    "\tD = calc_D(x_0, x_0_prime)\n",
    "\tf = (D ** 2 - d ** 2) / (4 * D)\n",
    "\treturn f\n",
    "d = calc(calc_d, x_1_L, x_1_R, x_2_L, x_2_R)\n",
    "print(f'd = {d}')\n",
    "D = calc(calc_D, x_0, x_0_prime)\n",
    "print(f'D = {D}')\n",
    "f = calc(calc_f, x_1_L, x_1_R, x_2_L, x_2_R, x_0, x_0_prime)\n",
    "print(f'f = {f}, {f.relative_uncertainty()}')"
   ]
  },
  {
   "cell_type": "markdown",
   "metadata": {},
   "source": [
    "## 3. Convex Lens - Conjugate Method via Displacement Method"
   ]
  },
  {
   "cell_type": "code",
   "execution_count": 79,
   "metadata": {},
   "outputs": [],
   "source": [
    "x = [\n",
    "\t[31.50, 31.20, 30.75], # 1\n",
    "\t[58.70, 59.60, 59.20], # 2\n",
    "]\n",
    "x = np.array(x)"
   ]
  },
  {
   "cell_type": "code",
   "execution_count": 80,
   "metadata": {},
   "outputs": [
    {
     "name": "stdout",
     "output_type": "stream",
     "text": [
      "x_1 = 31.150000000000002 ± 0.938943674788384\n",
      "x_2 = 59.166666666666664 ± 1.1211663948104256\n",
      "d = 14.008333333333331 ± 0.7312026619911194\n",
      "D = 77.204 ± 0.06717514246702194\n",
      "f = 18.6655620603279 ± 0.06856731325387955, 0.0036734663029308755\n"
     ]
    }
   ],
   "source": [
    "x_1 = measure(x[0, :], tolerance=0.05)\n",
    "x_2 = measure(x[1, :], tolerance=0.05)\n",
    "print(f'x_1 = {x_1}')\n",
    "print(f'x_2 = {x_2}')\n",
    "def calc_d(x_1, x_2):\n",
    "\td = (x_2 - x_1) / 2\n",
    "\treturn d\n",
    "def calc_D(x_0, x_0_prime):\n",
    "\tD = x_0_prime - x_0\n",
    "\treturn D\n",
    "def calc_f(x_1, x_2, x_0, x_0_prime):\n",
    "\td = calc_d(x_1, x_2)\n",
    "\tD = calc_D(x_0, x_0_prime)\n",
    "\tf = (D ** 2 - d ** 2) / (4 * D)\n",
    "\treturn f\n",
    "d = calc(calc_d, x_1, x_2)\n",
    "print(f'd = {d}')\n",
    "D = calc(calc_D, x_0, x_0_prime)\n",
    "print(f'D = {D}')\n",
    "f = calc(calc_f, x_1, x_2, x_0, x_0_prime)\n",
    "print(f'f = {f}, {f.relative_uncertainty()}')\n"
   ]
  },
  {
   "cell_type": "markdown",
   "metadata": {},
   "source": [
    "## 4. Concave lens - Object distance-image distance method"
   ]
  },
  {
   "cell_type": "code",
   "execution_count": 82,
   "metadata": {},
   "outputs": [
    {
     "name": "stdout",
     "output_type": "stream",
     "text": [
      "x_1 = 86.475 ± 0.37718844413757324\n"
     ]
    }
   ],
   "source": [
    "x_1_original = [\n",
    "\t[84.10, 84.30, 83.90],\t# <-\n",
    "\t[84.00, 84.20, 83.80],\t# ->\n",
    "]\n",
    "x_1_original = np.array(x_1_original).flatten()\n",
    "x_1_original = measure(x_1_original, tolerance=0.05)\n",
    "x_1_delta_original = measure(\n",
    "\t[88.90 - 84.10, 88.90 - 84.00], tolerance=0.05\n",
    "\t)\n",
    "x_1 = calc(lambda x, y: x + y / 2, x_1_original, x_1_delta_original)\n",
    "print(f'x_1 = {x_1}')"
   ]
  },
  {
   "cell_type": "code",
   "execution_count": 83,
   "metadata": {},
   "outputs": [
    {
     "name": "stdout",
     "output_type": "stream",
     "text": [
      "x_2 = 109.275 ± 0.0475\n"
     ]
    }
   ],
   "source": [
    "x_2_original = np.array([106.85, 111.70])\n",
    "x_2 = measure(x_2_original.mean(), tolerance=0.05)\n",
    "print(f'x_2 = {x_2}')"
   ]
  },
  {
   "cell_type": "code",
   "execution_count": 84,
   "metadata": {},
   "outputs": [
    {
     "name": "stdout",
     "output_type": "stream",
     "text": [
      "x_3_delta = 4.899999999999995 ± 0.0475\n",
      "x_3_l_-> = 71.21666666666665 ± 0.18981547619310993\n",
      "x_3_l_<- = 71.00833333333334 ± 0.17705740752407584\n",
      "x_3 = 73.5625 ± 0.13194268941879272\n"
     ]
    }
   ],
   "source": [
    "x_3_original = [\n",
    "\t[\n",
    "\t\t[71.40, 71.00, 71.20],\t# 1, ->\n",
    "\t\t[71.10, 71.15, 71.20],\t# 1, <-\n",
    "\t],\n",
    "\t[\n",
    "\t\t[71.45, 71.10, 71.15],\t# 2, ->\n",
    "\t\t[70.90, 70.80, 70.90],\t# 2, <-\n",
    "\t]\n",
    "]\n",
    "x_3_original = np.array(x_3_original)\n",
    "x_3_delta_original = [\n",
    "\t76.30 - 71.40,\n",
    "\t76.00 - 71.10,\n",
    "\t76.35 - 71.45,\n",
    "\t75.80 - 70.90,\n",
    "]\n",
    "x_3_delta = measure(x_3_delta_original, tolerance=0.05)\n",
    "print(f'x_3_delta = {x_3_delta}')\n",
    "x_3_l_L = measure(x_3_original[:, 0, :].flatten(), tolerance=0.05)\n",
    "print(f'x_3_l_-> = {x_3_l_L}')\n",
    "x_3_l_R = measure(x_3_original[:, 1, :].flatten(), tolerance=0.05)\n",
    "print(f'x_3_l_<- = {x_3_l_R}')\n",
    "x_3 = calc(lambda x, y, z: (x + y) / 2 + z / 2, x_3_l_L, x_3_l_R, x_3_delta)\n",
    "print(f'x_3 = {x_3}')"
   ]
  },
  {
   "cell_type": "code",
   "execution_count": 86,
   "metadata": {},
   "outputs": [
    {
     "name": "stdout",
     "output_type": "stream",
     "text": [
      "f = -20.225335800438582 ± 0.9673556089401245, -0.047828902248394194\n"
     ]
    },
    {
     "data": {
      "text/plain": [
       "tensor([0.9254, 0.0152, 0.2814])"
      ]
     },
     "execution_count": 86,
     "metadata": {},
     "output_type": "execute_result"
    }
   ],
   "source": [
    "def calc_f(x_1, x_2, x_3):\n",
    "\ts_1 = x_3 - x_1\n",
    "\ts_2 = x_2 - x_3\n",
    "\t# 1 / f = 1 / s_1 + 1 / s_2\n",
    "\t# => f = 1 / (1 / s_1 + 1 / s_2)\n",
    "\tf = 1 / (1 / s_1 + 1 / s_2)\n",
    "\treturn f\n",
    "f = calc(calc_f, x_1, x_2, x_3)\n",
    "print(f'f = {f}, {f.relative_uncertainty()}')\n",
    "calc.uncertainties"
   ]
  },
  {
   "cell_type": "code",
   "execution_count": null,
   "metadata": {},
   "outputs": [],
   "source": []
  }
 ],
 "metadata": {
  "kernelspec": {
   "display_name": "Python 3",
   "language": "python",
   "name": "python3"
  },
  "language_info": {
   "codemirror_mode": {
    "name": "ipython",
    "version": 3
   },
   "file_extension": ".py",
   "mimetype": "text/x-python",
   "name": "python",
   "nbconvert_exporter": "python",
   "pygments_lexer": "ipython3",
   "version": "3.10.12"
  }
 },
 "nbformat": 4,
 "nbformat_minor": 2
}
