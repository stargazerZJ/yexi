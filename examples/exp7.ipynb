{
 "cells": [
  {
   "cell_type": "code",
   "execution_count": 1,
   "metadata": {},
   "outputs": [],
   "source": [
    "import numpy as np\n",
    "import scipy.stats\n",
    "import torch\n",
    "\n",
    "confidence = 0.95\n",
    "\n",
    "def measure(value, tolerance=0, factor=1, intercept=0):\n",
    "\t\"\"\"Measure a value with uncertainty, returning a torch.Tensor with an extra uncertainty attribute.\"\"\"\n",
    "\tsystematic_error = tolerance * confidence\t# assuming the data is uniformly distributed within the tolerance\n",
    "\n",
    "\tif isinstance(value, (list, np.ndarray)):\n",
    "\t\tME = margin_of_error(np.array(value))\n",
    "\t\tmean_value = (np.mean(value) - intercept) * factor\n",
    "\t\tuncertainty = np.sqrt(ME**2 + systematic_error**2) * factor\n",
    "\telse:\n",
    "\t\tmean_value = (value - intercept) * factor\n",
    "\t\tuncertainty = systematic_error * factor\n",
    "\n",
    "\t# Create a Tensor object and attach the uncertainty as an attribute\n",
    "\tresult_tensor = torch.tensor(mean_value, dtype=torch.float, requires_grad=True)\n",
    "\tsetattr(result_tensor, 'uncertainty', uncertainty)\n",
    "\n",
    "\tprint(f'Measured Value {mean_value} ± {uncertainty}')\n",
    "\treturn result_tensor\n",
    "\n",
    "def margin_of_error(value):\n",
    "\t\"\"\"Calculate Margin of Error (the uncertainty associated with random error), using the t-distribution.\"\"\"\n",
    "\treturn scipy.stats.t.ppf((1 + confidence) / 2, len(value) - 1) * np.std(value, ddof=1) / np.sqrt(len(value))\n",
    "\n",
    "def uncertainty(result, inputs):\n",
    "\t\"\"\"Calculate the uncertainty of a result based on the uncertainties of its inputs.\"\"\"\n",
    "\tif not all(hasattr(input, 'uncertainty') for input in inputs if isinstance(input, torch.Tensor)):\n",
    "\t\traise ValueError(\"All inputs must have an 'uncertainty' attribute.\")\n",
    "\n",
    "\tderivatives = []\n",
    "\tfor input in inputs:\n",
    "\t\tif isinstance(input, torch.Tensor) and hasattr(input, 'uncertainty'):\n",
    "\t\t\tinput.requires_grad_(True)\n",
    "\t\t\tderivative = torch.autograd.grad(outputs=result, inputs=input, retain_graph=True)[0]\n",
    "\t\t\tderivatives.append(input.uncertainty * derivative)\n",
    "\n",
    "\tderivatives = torch.tensor(derivatives)\n",
    "\ttotal_uncertainty = torch.sqrt(torch.sum(derivatives ** 2))\n",
    "\tsetattr(result, 'uncertainty', total_uncertainty.item())\n",
    "\tsetattr(result, 'contributions', derivatives)\n",
    "\n",
    "\tprint(f'Result: {result.item()} ± {total_uncertainty.item()}')\n",
    "\treturn result\n",
    "\n",
    "def relative_uncertainty(value : torch.Tensor):\n",
    "\t\"\"\"Calculate the relative uncertainty of a value.\"\"\"\n",
    "\tif not hasattr(value, 'uncertainty'):\n",
    "\t\traise ValueError(\"The input must have an 'uncertainty' attribute. Call the `uncertainty` function first.\")\n",
    "\treturn value.uncertainty / value.item()"
   ]
  },
  {
   "cell_type": "code",
   "execution_count": 7,
   "metadata": {},
   "outputs": [],
   "source": [
    "import matplotlib.pyplot as plt\n",
    "import pandas as pd"
   ]
  },
  {
   "cell_type": "markdown",
   "metadata": {},
   "source": [
    "# Exp 7 : Collisions"
   ]
  },
  {
   "cell_type": "markdown",
   "metadata": {},
   "source": [
    "## 1 - Measure the density of the ball"
   ]
  },
  {
   "cell_type": "code",
   "execution_count": 4,
   "metadata": {},
   "outputs": [
    {
     "name": "stdout",
     "output_type": "stream",
     "text": [
      "Measured Value 2.0 ± 0.0023177800286039735\n",
      "Measured Diameter: 2.0 cm ± 0.0023177800286039735 cm\n",
      "Measured Value 32.603 ± 0.00095\n",
      "Measured Mass: 32.60300064086914 g ± 0.00095 g\n",
      "Result: 1.0 ± 0.0011588899651542306\n",
      "Radius: 1.0 cm ± 0.0011588899651542306 cm\n",
      "Result: 4.188790321350098 ± 0.014563040807843208\n",
      "Volume: 4.188790321350098 cm^3 ± 0.014563040807843208 cm^3\n",
      "Result: 7783.39306640625 ± 27.060287475585938\n",
      "Density: 7783.39306640625 kg/m^3 ± 27.060287475585938 kg/m^3\n",
      "Relative Uncertainty of Diameter: 0.12%\n",
      "Relative Uncertainty of Mass: 0.00%\n",
      "Relative Uncertainty of Radius: 0.12%\n",
      "Relative Uncertainty of Volume: 0.35%\n",
      "Relative Uncertainty of Density: 0.35%\n"
     ]
    }
   ],
   "source": [
    "# Measurements for the diameter of the ball in cm\n",
    "diameters = [2.000, 2.000, 2.000, 1.998, 2.000, 2.002]\n",
    "# Tolerance for the measurement\n",
    "tolerance_diameter = 0.002\n",
    "\n",
    "# Measure the diameter\n",
    "measured_diameter = measure(diameters, tolerance=tolerance_diameter)\n",
    "print(f\"Measured Diameter: {measured_diameter.item()} cm ± {measured_diameter.uncertainty} cm\")\n",
    "\n",
    "# Mass of the ball in grams\n",
    "mass = 32.603\n",
    "# Tolerance for the mass measurement\n",
    "tolerance_mass = 0.001\n",
    "\n",
    "# Measure the mass\n",
    "measured_mass = measure(mass, tolerance=tolerance_mass)\n",
    "print(f\"Measured Mass: {measured_mass.item()} g ± {measured_mass.uncertainty} g\")\n",
    "\n",
    "# Calculate the radius from the diameter\n",
    "radius = measured_diameter / 2\n",
    "radius = uncertainty(radius, [measured_diameter])\n",
    "print(f\"Radius: {radius.item()} cm ± {radius.uncertainty} cm\")\n",
    "\n",
    "# Calculate the volume of the ball (V = 4/3 * pi * r^3)\n",
    "volume = 4/3 * np.pi * radius**3\n",
    "volume = uncertainty(volume, [radius])\n",
    "print(f\"Volume: {volume.item()} cm^3 ± {volume.uncertainty} cm^3\")\n",
    "\n",
    "# Convert mass to kg and volume to m^3 for SI units\n",
    "mass_kg = measured_mass / 1000\n",
    "volume_m3 = volume / 1e6\n",
    "\n",
    "# Calculate the density (ρ = mass / volume)\n",
    "density = mass_kg / volume_m3\n",
    "density = uncertainty(density, [mass, volume])\n",
    "print(f\"Density: {density.item()} kg/m^3 ± {density.uncertainty} kg/m^3\")\n",
    "\n",
    "# Calculate relative uncertainties\n",
    "relative_uncertainty_diameter = relative_uncertainty(measured_diameter)\n",
    "relative_uncertainty_mass = relative_uncertainty(measured_mass)\n",
    "relative_uncertainty_radius = relative_uncertainty(radius)\n",
    "relative_uncertainty_volume = relative_uncertainty(volume)\n",
    "relative_uncertainty_density = relative_uncertainty(density)\n",
    "\n",
    "print(f\"Relative Uncertainty of Diameter: {relative_uncertainty_diameter * 100:.2f}%\")\n",
    "print(f\"Relative Uncertainty of Mass: {relative_uncertainty_mass * 100:.2f}%\")\n",
    "print(f\"Relative Uncertainty of Radius: {relative_uncertainty_radius * 100:.2f}%\")\n",
    "print(f\"Relative Uncertainty of Volume: {relative_uncertainty_volume * 100:.2f}%\")\n",
    "print(f\"Relative Uncertainty of Density: {relative_uncertainty_density * 100:.2f}%\")"
   ]
  },
  {
   "cell_type": "markdown",
   "metadata": {},
   "source": [
    "## 2 - x-$\\Delta E$"
   ]
  },
  {
   "cell_type": "code",
   "execution_count": 13,
   "metadata": {},
   "outputs": [],
   "source": [
    "h_cm = np.array([3.0, 4.0, 5.0, 6.0, 8.0, 9.0, 10.0, 11.0, 13.0, 15.0])\n",
    "x_cm = np.array([7.7, 10.4, 11.9, 13.4, 16.0, 17.7, 19.1, 19.4, 21.5, 23.4])\n",
    "y_cm = 15.72\n",
    "m_1 = float(measured_mass) / 1000\n",
    "g = 9.794\n",
    "delta_e = m_1 * g * (h_cm - (x_cm * x_cm) / (4 * y_cm)) / 100"
   ]
  },
  {
   "cell_type": "code",
   "execution_count": 16,
   "metadata": {},
   "outputs": [
    {
     "data": {
      "text/html": [
       "<div>\n",
       "<style scoped>\n",
       "    .dataframe tbody tr th:only-of-type {\n",
       "        vertical-align: middle;\n",
       "    }\n",
       "\n",
       "    .dataframe tbody tr th {\n",
       "        vertical-align: top;\n",
       "    }\n",
       "\n",
       "    .dataframe thead th {\n",
       "        text-align: right;\n",
       "    }\n",
       "</style>\n",
       "<table border=\"1\" class=\"dataframe\">\n",
       "  <thead>\n",
       "    <tr style=\"text-align: right;\">\n",
       "      <th></th>\n",
       "      <th>x (cm)</th>\n",
       "      <th>h (cm)</th>\n",
       "      <th>delta_e (mJ)</th>\n",
       "    </tr>\n",
       "  </thead>\n",
       "  <tbody>\n",
       "    <tr>\n",
       "      <th>0</th>\n",
       "      <td>7.7</td>\n",
       "      <td>3.0</td>\n",
       "      <td>6.568581</td>\n",
       "    </tr>\n",
       "    <tr>\n",
       "      <th>1</th>\n",
       "      <td>10.4</td>\n",
       "      <td>4.0</td>\n",
       "      <td>7.280029</td>\n",
       "    </tr>\n",
       "    <tr>\n",
       "      <th>2</th>\n",
       "      <td>11.9</td>\n",
       "      <td>5.0</td>\n",
       "      <td>8.774528</td>\n",
       "    </tr>\n",
       "    <tr>\n",
       "      <th>3</th>\n",
       "      <td>13.4</td>\n",
       "      <td>6.0</td>\n",
       "      <td>10.040509</td>\n",
       "    </tr>\n",
       "    <tr>\n",
       "      <th>4</th>\n",
       "      <td>16.0</td>\n",
       "      <td>8.0</td>\n",
       "      <td>12.545051</td>\n",
       "    </tr>\n",
       "    <tr>\n",
       "      <th>5</th>\n",
       "      <td>17.7</td>\n",
       "      <td>9.0</td>\n",
       "      <td>12.828919</td>\n",
       "    </tr>\n",
       "    <tr>\n",
       "      <th>6</th>\n",
       "      <td>19.1</td>\n",
       "      <td>10.0</td>\n",
       "      <td>13.405796</td>\n",
       "    </tr>\n",
       "    <tr>\n",
       "      <th>7</th>\n",
       "      <td>19.4</td>\n",
       "      <td>11.0</td>\n",
       "      <td>16.012408</td>\n",
       "    </tr>\n",
       "    <tr>\n",
       "      <th>8</th>\n",
       "      <td>21.5</td>\n",
       "      <td>13.0</td>\n",
       "      <td>18.037065</td>\n",
       "    </tr>\n",
       "    <tr>\n",
       "      <th>9</th>\n",
       "      <td>23.4</td>\n",
       "      <td>15.0</td>\n",
       "      <td>20.091175</td>\n",
       "    </tr>\n",
       "  </tbody>\n",
       "</table>\n",
       "</div>"
      ],
      "text/plain": [
       "   x (cm)  h (cm)  delta_e (mJ)\n",
       "0     7.7     3.0      6.568581\n",
       "1    10.4     4.0      7.280029\n",
       "2    11.9     5.0      8.774528\n",
       "3    13.4     6.0     10.040509\n",
       "4    16.0     8.0     12.545051\n",
       "5    17.7     9.0     12.828919\n",
       "6    19.1    10.0     13.405796\n",
       "7    19.4    11.0     16.012408\n",
       "8    21.5    13.0     18.037065\n",
       "9    23.4    15.0     20.091175"
      ]
     },
     "execution_count": 16,
     "metadata": {},
     "output_type": "execute_result"
    }
   ],
   "source": [
    "pd.DataFrame({'x (cm)': x_cm, 'h (cm)': h_cm, 'delta_e (mJ)': delta_e * 1000})"
   ]
  },
  {
   "cell_type": "code",
   "execution_count": 17,
   "metadata": {},
   "outputs": [
    {
     "data": {
      "image/png": "[encoded data removed]",
      "text/plain": [
       "<Figure size 640x480 with 1 Axes>"
      ]
     },
     "metadata": {},
     "output_type": "display_data"
    }
   ],
   "source": [
    "# plot x vs delta_e\n",
    "plt.figure()\n",
    "plt.plot(x_cm, delta_e, 'o')\n",
    "plt.xlabel('x (cm)')\n",
    "plt.ylabel('delta_e (mJ)')\n",
    "plt.title('x vs delta_e')\n",
    "plt.grid()\n",
    "plt.show()"
   ]
  },
  {
   "cell_type": "code",
   "execution_count": 18,
   "metadata": {},
   "outputs": [
    {
     "data": {
      "image/png": "[encoded data removed]",
      "text/plain": [
       "<Figure size 640x480 with 1 Axes>"
      ]
     },
     "metadata": {},
     "output_type": "display_data"
    }
   ],
   "source": [
    "## plot x vs h\n",
    "plt.figure()\n",
    "plt.plot(x_cm, h_cm, 'o')\n",
    "plt.xlabel('x (cm)')\n",
    "plt.ylabel('h (cm)')\n",
    "plt.title('x vs h')\n",
    "plt.grid()\n",
    "plt.show()"
   ]
  },
  {
   "cell_type": "markdown",
   "metadata": {},
   "source": [
    "## 3 - material - $\\Delta E$"
   ]
  },
  {
   "cell_type": "code",
   "execution_count": 24,
   "metadata": {},
   "outputs": [
    {
     "data": {
      "text/html": [
       "<div>\n",
       "<style scoped>\n",
       "    .dataframe tbody tr th:only-of-type {\n",
       "        vertical-align: middle;\n",
       "    }\n",
       "\n",
       "    .dataframe tbody tr th {\n",
       "        vertical-align: top;\n",
       "    }\n",
       "\n",
       "    .dataframe thead th {\n",
       "        text-align: right;\n",
       "    }\n",
       "</style>\n",
       "<table border=\"1\" class=\"dataframe\">\n",
       "  <thead>\n",
       "    <tr style=\"text-align: right;\">\n",
       "      <th></th>\n",
       "      <th>Material</th>\n",
       "      <th>Density (g/cm³)</th>\n",
       "      <th>h (cm)</th>\n",
       "      <th>h_0 (cm)</th>\n",
       "      <th>delta_e (mJ)</th>\n",
       "    </tr>\n",
       "  </thead>\n",
       "  <tbody>\n",
       "    <tr>\n",
       "      <th>0</th>\n",
       "      <td>copper</td>\n",
       "      <td>8.96</td>\n",
       "      <td>5.5</td>\n",
       "      <td>2.606592</td>\n",
       "      <td>9.239049</td>\n",
       "    </tr>\n",
       "    <tr>\n",
       "      <th>1</th>\n",
       "      <td>steel</td>\n",
       "      <td>7.78</td>\n",
       "      <td>5.0</td>\n",
       "      <td>2.252067</td>\n",
       "      <td>8.774527</td>\n",
       "    </tr>\n",
       "    <tr>\n",
       "      <th>2</th>\n",
       "      <td>aluminum</td>\n",
       "      <td>2.70</td>\n",
       "      <td>2.5</td>\n",
       "      <td>1.021609</td>\n",
       "      <td>4.720706</td>\n",
       "    </tr>\n",
       "  </tbody>\n",
       "</table>\n",
       "</div>"
      ],
      "text/plain": [
       "   Material  Density (g/cm³)  h (cm)  h_0 (cm)  delta_e (mJ)\n",
       "0    copper             8.96     5.5  2.606592      9.239049\n",
       "1     steel             7.78     5.0  2.252067      8.774527\n",
       "2  aluminum             2.70     2.5  1.021609      4.720706"
      ]
     },
     "execution_count": 24,
     "metadata": {},
     "output_type": "execute_result"
    }
   ],
   "source": [
    "import pandas as pd\n",
    "\n",
    "# Constants\n",
    "x = 11.9  # cm\n",
    "y = 15.72  # cm\n",
    "m_1 = 32.603  # g\n",
    "g = 9.794  # m/s²\n",
    "\n",
    "# Densities (g/cm³)\n",
    "densities = {\n",
    "    \"copper\": 8.96,\n",
    "    \"steel\": 7.78,\n",
    "    \"aluminum\": 2.70\n",
    "}\n",
    "\n",
    "# Heights (cm)\n",
    "h_values = [5.5, 5.0, 2.5]\n",
    "\n",
    "# Calculation of h_0 and delta_e\n",
    "results = []\n",
    "\n",
    "for material, density, h in zip(densities.keys(), densities.values(), h_values):\n",
    "\trho_2 = density\n",
    "\trho_1 = densities[\"steel\"]\n",
    "\th_0 = (rho_1 + rho_2)**2 * x**2 / (16 * rho_1**2 * y)\n",
    "\tdelta_e = m_1 / 1000 * g * (h - h_0) / 100\n",
    "\tresults.append([material, density, h, h_0, delta_e * 1000])\n",
    "\n",
    "\n",
    "# Creating DataFrame\n",
    "columns = [\"Material\", \"Density (g/cm³)\", \"h (cm)\", \"h_0 (cm)\", \"delta_e (mJ)\"]\n",
    "df = pd.DataFrame(results, columns=columns)\n",
    "\n",
    "df"
   ]
  },
  {
   "cell_type": "code",
   "execution_count": null,
   "metadata": {},
   "outputs": [],
   "source": []
  }
 ],
 "metadata": {
  "kernelspec": {
   "display_name": "Python 3",
   "language": "python",
   "name": "python3"
  },
  "language_info": {
   "codemirror_mode": {
    "name": "ipython",
    "version": 3
   },
   "file_extension": ".py",
   "mimetype": "text/x-python",
   "name": "python",
   "nbconvert_exporter": "python",
   "pygments_lexer": "ipython3",
   "version": "3.10.12"
  }
 },
 "nbformat": 4,
 "nbformat_minor": 2
}
